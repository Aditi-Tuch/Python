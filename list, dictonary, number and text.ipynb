{
 "cells": [
  {
   "cell_type": "code",
   "execution_count": 1,
   "id": "203cf481",
   "metadata": {},
   "outputs": [
    {
     "name": "stdout",
     "output_type": "stream",
     "text": [
      "count of positive value is 5\n",
      "count of negative value is 3\n",
      "count of zero value is 1\n"
     ]
    }
   ],
   "source": [
    "#Q.1\n",
    "lst = [1,-2,-3,-4,0,1,2,3,4]\n",
    "cnt_p = 0\n",
    "cnt_0 = 0\n",
    "cnt_n = 0\n",
    "i=0\n",
    "while i  <= len(lst)-1:\n",
    "    if lst[i] < 0:\n",
    "        cnt_n = cnt_n+1\n",
    "    elif lst[i] > 0:\n",
    "        cnt_p = cnt_p+1\n",
    "    else:\n",
    "        cnt_0 = cnt_0+1\n",
    "    i+=1\n",
    "print(\"count of positive value is\", cnt_p)\n",
    "print(\"count of negative value is\", cnt_n)    \n",
    "print(\"count of zero value is\", cnt_0) "
   ]
  },
  {
   "cell_type": "code",
   "execution_count": 14,
   "id": "30248dd9",
   "metadata": {},
   "outputs": [
    {
     "name": "stdout",
     "output_type": "stream",
     "text": [
      "enter6\n",
      "Number is even\n"
     ]
    }
   ],
   "source": [
    "#Q.2 even number\n",
    "n= int(input(\"enter\"))\n",
    "if n%2==0:\n",
    "    print (\"Number is even\")\n",
    "else:\n",
    "    print(\"Number is odd\")"
   ]
  },
  {
   "cell_type": "code",
   "execution_count": 16,
   "id": "ce335675",
   "metadata": {},
   "outputs": [
    {
     "name": "stdout",
     "output_type": "stream",
     "text": [
      "Count of even number is 4\n",
      "Count of odd number is 3\n"
     ]
    }
   ],
   "source": [
    "#Q.3\n",
    "lst = [1,5,8,10,11,12,16]\n",
    "i=0\n",
    "even=0\n",
    "odd=0\n",
    "while i < len(lst):\n",
    "    if lst[i]%2==0:\n",
    "        even=even+1\n",
    "    else:\n",
    "        odd=odd+1       \n",
    "    i+=1\n",
    "print (\"Count of even number is\",even)\n",
    "print(\"Count of odd number is\",odd)"
   ]
  },
  {
   "cell_type": "code",
   "execution_count": 25,
   "id": "b535013f",
   "metadata": {},
   "outputs": [
    {
     "name": "stdout",
     "output_type": "stream",
     "text": [
      "Count of even number is 4\n",
      "Count of odd number is 3\n"
     ]
    }
   ],
   "source": [
    "#Q3(b)\n",
    "lst = [1,5,8,10,11,12,16]\n",
    "even=0\n",
    "odd=0\n",
    "for i in range(0, len(lst)):\n",
    "    if lst[i]%2==0:\n",
    "        even=even+1\n",
    "    else:\n",
    "        odd=odd+1\n",
    "\n",
    "print (\"Count of even number is\",even)\n",
    "print(\"Count of odd number is\",odd)"
   ]
  },
  {
   "cell_type": "code",
   "execution_count": 81,
   "id": "85347e30",
   "metadata": {},
   "outputs": [
    {
     "name": "stdout",
     "output_type": "stream",
     "text": [
      "enter15\n",
      "Not Prime\n"
     ]
    }
   ],
   "source": [
    "#Q=4\n",
    "n=int(input(\"enter\"))\n",
    "if(n==1):\n",
    "    print(\"Prime\")\n",
    "flag = True\n",
    "for i in range(2,n):\n",
    "    if n%i==0:\n",
    "        flag = False\n",
    "        break\n",
    "if(flag==True):\n",
    "    print(\"Prime\")\n",
    "else:\n",
    "    print(\"Not Prime\")"
   ]
  },
  {
   "cell_type": "code",
   "execution_count": 172,
   "id": "46418f53",
   "metadata": {},
   "outputs": [
    {
     "name": "stdout",
     "output_type": "stream",
     "text": [
      "2\n"
     ]
    },
    {
     "ename": "TypeError",
     "evalue": "not all arguments converted during string formatting",
     "output_type": "error",
     "traceback": [
      "\u001b[1;31m---------------------------------------------------------------------------\u001b[0m",
      "\u001b[1;31mTypeError\u001b[0m                                 Traceback (most recent call last)",
      "Cell \u001b[1;32mIn[172], line 3\u001b[0m\n\u001b[0;32m      1\u001b[0m \u001b[38;5;28;01mfor\u001b[39;00m num \u001b[38;5;129;01min\u001b[39;00m \u001b[38;5;28mrange\u001b[39m(\u001b[38;5;241m2\u001b[39m,\u001b[38;5;241m21\u001b[39m):\n\u001b[0;32m      2\u001b[0m     \u001b[38;5;28;01mfor\u001b[39;00m i \u001b[38;5;129;01min\u001b[39;00m \u001b[38;5;28mrange\u001b[39m(\u001b[38;5;241m2\u001b[39m,num):\n\u001b[1;32m----> 3\u001b[0m         \u001b[38;5;28;01mif\u001b[39;00m n\u001b[38;5;241m%\u001b[39mi\u001b[38;5;241m==\u001b[39m\u001b[38;5;241m0\u001b[39m:\n\u001b[0;32m      4\u001b[0m             \u001b[38;5;28;01mbreak\u001b[39;00m\n\u001b[0;32m      5\u001b[0m     \u001b[38;5;28;01melse\u001b[39;00m:\n",
      "\u001b[1;31mTypeError\u001b[0m: not all arguments converted during string formatting"
     ]
    }
   ],
   "source": [
    "for num in range(2,21):\n",
    "\n",
    "    for i in range(2,num):\n",
    "        if n%i==0:\n",
    "            break\n",
    "    else:\n",
    "            print(num)"
   ]
  },
  {
   "cell_type": "code",
   "execution_count": 189,
   "id": "fefc463b",
   "metadata": {},
   "outputs": [
    {
     "name": "stdout",
     "output_type": "stream",
     "text": [
      "enter a6\n",
      "enter b5\n",
      "5 6\n"
     ]
    }
   ],
   "source": [
    "#Q.5\n",
    "a=int(input(\"enter a\"))\n",
    "b=int(input(\"enter b\"))\n",
    "c=0\n",
    "c=a\n",
    "a=b\n",
    "b=c\n",
    "print (a,b)"
   ]
  },
  {
   "cell_type": "code",
   "execution_count": 192,
   "id": "9811d2c8",
   "metadata": {},
   "outputs": [
    {
     "name": "stdout",
     "output_type": "stream",
     "text": [
      "enter56\n",
      "11\n"
     ]
    }
   ],
   "source": [
    "#Q.6\n",
    "\n",
    "s=input(\"enter\")\n",
    "sum = 0\n",
    "for i in range(0,len(s)):\n",
    "    sum=int(s[i])+sum\n",
    "print(sum)\n"
   ]
  },
  {
   "cell_type": "code",
   "execution_count": 150,
   "id": "0c946254",
   "metadata": {},
   "outputs": [
    {
     "name": "stdout",
     "output_type": "stream",
     "text": [
      "enter645\n",
      "3\n"
     ]
    }
   ],
   "source": [
    "#Q.7\n",
    "n = input(\"enter\")\n",
    "print (len(n))"
   ]
  },
  {
   "cell_type": "code",
   "execution_count": 218,
   "id": "0a3c1f37",
   "metadata": {},
   "outputs": [
    {
     "name": "stdout",
     "output_type": "stream",
     "text": [
      "2\n",
      "3\n",
      "5\n",
      "7\n",
      "11\n",
      "13\n",
      "17\n",
      "19\n"
     ]
    }
   ],
   "source": [
    "\n",
    "for num in range(2,21):\n",
    "    flag= False\n",
    "    for i in range(2, num):\n",
    "        if num%i==0:\n",
    "            flag=True\n",
    "            break\n",
    "    if(flag==False):\n",
    "        print(num)"
   ]
  },
  {
   "cell_type": "code",
   "execution_count": null,
   "id": "227d2bc5",
   "metadata": {},
   "outputs": [],
   "source": []
  },
  {
   "cell_type": "code",
   "execution_count": 1,
   "id": "7c443ec4",
   "metadata": {},
   "outputs": [
    {
     "ename": "TypeError",
     "evalue": "object of type 'int' has no len()",
     "output_type": "error",
     "traceback": [
      "\u001b[1;31m---------------------------------------------------------------------------\u001b[0m",
      "\u001b[1;31mTypeError\u001b[0m                                 Traceback (most recent call last)",
      "Cell \u001b[1;32mIn[1], line 3\u001b[0m\n\u001b[0;32m      1\u001b[0m \u001b[38;5;66;03m#n = input(\"enter\")\u001b[39;00m\n\u001b[0;32m      2\u001b[0m n\u001b[38;5;241m=\u001b[39m\u001b[38;5;241m22\u001b[39m\n\u001b[1;32m----> 3\u001b[0m \u001b[38;5;28mprint\u001b[39m (\u001b[38;5;28mlen\u001b[39m(n))\n",
      "\u001b[1;31mTypeError\u001b[0m: object of type 'int' has no len()"
     ]
    }
   ],
   "source": [
    "#n = input(\"enter\")\n",
    "n=22\n",
    " "
   ]
  },
  {
   "cell_type": "code",
   "execution_count": 6,
   "id": "84a700f3",
   "metadata": {},
   "outputs": [
    {
     "name": "stdout",
     "output_type": "stream",
     "text": [
      "Grade = C\n"
     ]
    }
   ],
   "source": [
    "marks = 75\n",
    "if marks>=90:\n",
    "    print (\"Grade = A\")\n",
    "elif marks<90 and marks>=80:\n",
    "    print (\"Grade = B\")\n",
    "elif marks<80 and marks>=70:\n",
    "     print (\"Grade = C\")\n",
    "else:\n",
    "     print (\"Grade = D\")"
   ]
  },
  {
   "cell_type": "code",
   "execution_count": 10,
   "id": "c224385c",
   "metadata": {},
   "outputs": [
    {
     "name": "stdout",
     "output_type": "stream",
     "text": [
      "Enter6\n",
      "Even\n"
     ]
    }
   ],
   "source": [
    "num = int(input(\"Enter\"))\n",
    "if num%2==0:\n",
    "    print(\"Even\")\n",
    "else:\n",
    "    print(\"Odd\")"
   ]
  },
  {
   "cell_type": "code",
   "execution_count": null,
   "id": "8c172ba0",
   "metadata": {},
   "outputs": [],
   "source": [
    "n1=int(input(\"Enter n1\"))\n",
    "n2=int(input(\"Enter n2\"))\n",
    "n3=int(input(\"Enter n3\"))\n",
    "if n1>n2 and n1>n3:\n",
    "    print(n1)\n",
    "elif n2>n1 and n2>n3:\n",
    "    print(n2)\n",
    "else:\n",
    "    print(n3)"
   ]
  },
  {
   "cell_type": "code",
   "execution_count": null,
   "id": "09b5088e",
   "metadata": {},
   "outputs": [],
   "source": [
    "num=int(input(\"Enter\"))\n",
    "if num%7==0:\n",
    "    print(num, \"is multiple of 7\")\n",
    "else:\n",
    "     print(num, \"is not multiple of 7\")"
   ]
  },
  {
   "cell_type": "code",
   "execution_count": null,
   "id": "94938caa",
   "metadata": {},
   "outputs": [],
   "source": [
    "a= aditi\n",
    "for i in range(len(a),0):\n",
    "    print"
   ]
  },
  {
   "cell_type": "code",
   "execution_count": 34,
   "id": "ccdb67e0",
   "metadata": {},
   "outputs": [
    {
     "name": "stdout",
     "output_type": "stream",
     "text": [
      "19\n"
     ]
    }
   ],
   "source": [
    "i=int(input(\"Enter\"))\n",
    "sum=0\n",
    "while(i>0):\n",
    "    sum= sum + i%10\n",
    "    i=i//10\n",
    "print(sum)"
   ]
  },
  {
   "cell_type": "code",
   "execution_count": 48,
   "id": "8a9dbba1",
   "metadata": {},
   "outputs": [
    {
     "name": "stdout",
     "output_type": "stream",
     "text": [
      "Enter55\n",
      "25\n"
     ]
    }
   ],
   "source": [
    "i=int(input(\"Enter\"))\n",
    "prd=1\n",
    "while(i>0):\n",
    "    prd =prd*(i%10)\n",
    "    i=i//10\n",
    "print(prd)"
   ]
  },
  {
   "cell_type": "code",
   "execution_count": 100,
   "id": "c02f1c03",
   "metadata": {},
   "outputs": [
    {
     "name": "stdout",
     "output_type": "stream",
     "text": [
      "3\n"
     ]
    }
   ],
   "source": [
    "#int(input(\"Enter\"))\n",
    "i=124\n",
    "if i<0:\n",
    "    i=i*-1\n",
    "elif i==0:\n",
    "    print(1)\n",
    "cnt=0\n",
    "while (i>0):\n",
    "    cnt=cnt+(1)\n",
    "    i=i//10\n",
    "print(cnt)"
   ]
  },
  {
   "cell_type": "code",
   "execution_count": 101,
   "id": "e19f9d57",
   "metadata": {},
   "outputs": [
    {
     "name": "stdout",
     "output_type": "stream",
     "text": [
      "0\n"
     ]
    }
   ],
   "source": [
    "#int(input(\"Enter\"))\n",
    "i=-112\n",
    "p=2\n",
    "sum=0\n",
    "rem = 0\n",
    "res = 1\n",
    "while(i>0):\n",
    "    rem = i%10\n",
    "    for j in range(1,p+1):\n",
    "        res = rem*res\n",
    "    sum = sum + res\n",
    "    res=1\n",
    "    i=i//10\n",
    "print(sum)"
   ]
  },
  {
   "cell_type": "code",
   "execution_count": null,
   "id": "68759e19",
   "metadata": {},
   "outputs": [],
   "source": [
    "i"
   ]
  },
  {
   "cell_type": "code",
   "execution_count": 92,
   "id": "e3fea1d8",
   "metadata": {},
   "outputs": [
    {
     "name": "stdout",
     "output_type": "stream",
     "text": [
      "0\n"
     ]
    }
   ],
   "source": [
    "#int(input(\"Enter\"))\n",
    "i=0000\n",
    "cnt=0\n",
    "while (i>0):\n",
    "    cnt = cnt+1\n",
    "    i=i//10\n",
    "print(cnt)"
   ]
  },
  {
   "cell_type": "code",
   "execution_count": 107,
   "id": "aeb9877f",
   "metadata": {},
   "outputs": [
    {
     "name": "stdout",
     "output_type": "stream",
     "text": [
      "Enter0\n",
      "1\n",
      "0\n"
     ]
    }
   ],
   "source": [
    "i=int(input(\"Enter\"))\n",
    "if i<0:\n",
    "    i=i*-1\n",
    "elif i==0:\n",
    "    print(1)\n",
    "    exit()\n",
    "cnt=0\n",
    "while (i>0):\n",
    "    cnt=cnt+(1)\n",
    "    i=i//10\n",
    "print(cnt)"
   ]
  },
  {
   "cell_type": "code",
   "execution_count": 31,
   "id": "7c7cb7c6",
   "metadata": {},
   "outputs": [
    {
     "name": "stdout",
     "output_type": "stream",
     "text": [
      "1\n"
     ]
    }
   ],
   "source": [
    "i=100\n",
    "rem=0\n",
    "rev = 0\n",
    "while (i>0):\n",
    "    rem = i%10\n",
    "    rev=(rev*10) + rem\n",
    "    i=i//10\n",
    "print(rev)"
   ]
  },
  {
   "cell_type": "code",
   "execution_count": 47,
   "id": "3fc4039d",
   "metadata": {},
   "outputs": [
    {
     "name": "stdout",
     "output_type": "stream",
     "text": [
      "a\n"
     ]
    }
   ],
   "source": [
    "i=88\n",
    "a=i\n",
    "rem=0\n",
    "rev=0\n",
    "while(i>0):\n",
    "    rem =i%10\n",
    "    rev= (rev*10)+rem\n",
    "    i=i//10\n",
    "if (a==rev):\n",
    "    print(\"a\")\n",
    "else:\n",
    "    print(\"b\")\n",
    "    "
   ]
  },
  {
   "cell_type": "code",
   "execution_count": 10,
   "id": "9f233eff",
   "metadata": {},
   "outputs": [
    {
     "name": "stdout",
     "output_type": "stream",
     "text": [
      "p\n"
     ]
    }
   ],
   "source": [
    "a=\"adida\"\n",
    "b=a[::-1]\n",
    "if a==b:\n",
    "    print (\"p\")\n",
    "else:\n",
    "    print(\"np\")"
   ]
  },
  {
   "cell_type": "code",
   "execution_count": 14,
   "id": "a23289d6",
   "metadata": {},
   "outputs": [
    {
     "name": "stdout",
     "output_type": "stream",
     "text": [
      "p\n"
     ]
    }
   ],
   "source": [
    "a=\"aabaa\"\n",
    "if a==a[::-1]:\n",
    "    print (\"p\")\n",
    "else:\n",
    "    print(\"np\")"
   ]
  },
  {
   "cell_type": "code",
   "execution_count": 15,
   "id": "dae2ffe3",
   "metadata": {},
   "outputs": [
    {
     "name": "stdout",
     "output_type": "stream",
     "text": [
      "enter 1a\n",
      "enter 2b\n",
      "enter 3c\n",
      "['a', 'b', 'c']\n"
     ]
    }
   ],
   "source": [
    "lst= []\n",
    "lst.append(input(\"enter 1\"))\n",
    "lst.append(input(\"enter 2\"))\n",
    "lst.append(input(\"enter 3\"))\n",
    "print(lst)"
   ]
  },
  {
   "cell_type": "code",
   "execution_count": 21,
   "id": "ba31d286",
   "metadata": {},
   "outputs": [
    {
     "name": "stdout",
     "output_type": "stream",
     "text": [
      "P\n"
     ]
    }
   ],
   "source": [
    "lst=[1,2,3,2,1]\n",
    "j=len(lst)-1\n",
    "flag=False\n",
    "for i in range (0,j):\n",
    "    if lst[i]==lst[j]:\n",
    "        flag=True\n",
    "    else:\n",
    "        flag=False\n",
    "    j=j-1\n",
    "if flag== True:\n",
    "    print(\"P\")\n",
    "else:\n",
    "    print(\"np\")\n"
   ]
  },
  {
   "cell_type": "code",
   "execution_count": 22,
   "id": "c31ab86f",
   "metadata": {},
   "outputs": [
    {
     "name": "stdout",
     "output_type": "stream",
     "text": [
      "{'table': ['a', 'b'], 'cat': 'c'}\n"
     ]
    }
   ],
   "source": [
    "word = {\"table\": [\"a\",\"b\"], \"cat\":\"c\"}\n",
    "print(word)"
   ]
  },
  {
   "cell_type": "code",
   "execution_count": 24,
   "id": "042f7043",
   "metadata": {},
   "outputs": [
    {
     "name": "stdout",
     "output_type": "stream",
     "text": [
      "5\n"
     ]
    }
   ],
   "source": [
    "lst = {\"a\",\"b\",\"c\",\"d\",\"e\",\"a\",\"b\"}\n",
    "print(len(lst))"
   ]
  },
  {
   "cell_type": "code",
   "execution_count": 26,
   "id": "4dfaa4ec",
   "metadata": {},
   "outputs": [
    {
     "name": "stdout",
     "output_type": "stream",
     "text": [
      "enter marks120\n",
      "enter sub1science\n",
      "enter marks250\n",
      "enter sub2pysics\n",
      "enter marks340\n",
      "enter sub3maths\n",
      "{'science': 20, 'pysics': 50, 'maths': 40}\n"
     ]
    }
   ],
   "source": [
    "dic={}\n",
    "dic[input(\"enter sub1\")]=int(input(\"enter marks1\"))\n",
    "dic[input(\"enter sub2\")]=int(input(\"enter marks2\"))\n",
    "dic[input(\"enter sub3\")]=int(input(\"enter marks3\"))\n",
    "print(dic)"
   ]
  },
  {
   "cell_type": "code",
   "execution_count": 32,
   "id": "741174cc",
   "metadata": {},
   "outputs": [
    {
     "name": "stdout",
     "output_type": "stream",
     "text": [
      "{'9.0', '9'}\n"
     ]
    }
   ],
   "source": [
    "a=\"9\"\n",
    "b=\"9.0\"\n",
    "st={a,b}\n",
    "print(st)"
   ]
  },
  {
   "cell_type": "code",
   "execution_count": 1,
   "id": "e9f44fd0",
   "metadata": {},
   "outputs": [
    {
     "name": "stdout",
     "output_type": "stream",
     "text": [
      "itida\n"
     ]
    }
   ],
   "source": [
    "n=\"aditi\"\n",
    "cnt=0\n",
    "b=\"\"\n",
    "for i in \"aditi\":\n",
    "    cnt=cnt+1\n",
    "while cnt>0:\n",
    "    b=b+n[cnt-1]\n",
    "    cnt=cnt-1\n",
    "print(b)"
   ]
  },
  {
   "cell_type": "code",
   "execution_count": 2,
   "id": "2b7b7b9e",
   "metadata": {},
   "outputs": [
    {
     "name": "stdout",
     "output_type": "stream",
     "text": [
      "itida\n"
     ]
    }
   ],
   "source": [
    "n =\"aditi\"\n",
    "b=\"\"\n",
    "for i in n:\n",
    "    b=i+b\n",
    "print(b)"
   ]
  },
  {
   "cell_type": "code",
   "execution_count": 3,
   "id": "a19dfd09",
   "metadata": {},
   "outputs": [
    {
     "name": "stdout",
     "output_type": "stream",
     "text": [
      "pallndrom\n"
     ]
    }
   ],
   "source": [
    "n =\"adida\"\n",
    "a=n\n",
    "b=\"\"\n",
    "for i in n:\n",
    "    b=i+b\n",
    "if a==b:\n",
    "    print(\"pallndrom\")\n",
    "else:\n",
    "    print(\"not pall\")\n"
   ]
  },
  {
   "cell_type": "code",
   "execution_count": 4,
   "id": "30e7df28",
   "metadata": {},
   "outputs": [
    {
     "name": "stdout",
     "output_type": "stream",
     "text": [
      "['yash', 'is', 'good', 'boy']\n"
     ]
    }
   ],
   "source": [
    "str=\"yash is good boy\"\n",
    "print (str.split())"
   ]
  },
  {
   "cell_type": "code",
   "execution_count": 5,
   "id": "f5ac4113",
   "metadata": {},
   "outputs": [
    {
     "name": "stdout",
     "output_type": "stream",
     "text": [
      "not\n",
      "not\n",
      "not\n",
      "not\n"
     ]
    }
   ],
   "source": [
    "n=\"adia\"\n",
    "for j in range (0,len(n)):\n",
    "    b=n[j]\n",
    "    if a==b:\n",
    "        print(\"palandrome\")\n",
    "    else:\n",
    "        print(\"not\")"
   ]
  },
  {
   "cell_type": "code",
   "execution_count": 8,
   "id": "aed69ef5",
   "metadata": {},
   "outputs": [
    {
     "name": "stdout",
     "output_type": "stream",
     "text": [
      "B\n",
      "66\n"
     ]
    }
   ],
   "source": [
    "n=\"aditi123\"\n",
    "y =chr(66)\n",
    "print(y)\n",
    "h ='B'\n",
    "z= ord(h)\n",
    "print(z)"
   ]
  },
  {
   "cell_type": "code",
   "execution_count": 7,
   "id": "9d690b33",
   "metadata": {},
   "outputs": [
    {
     "name": "stdout",
     "output_type": "stream",
     "text": [
      "p\n"
     ]
    }
   ],
   "source": [
    "n=\"adiida\"\n",
    "j=len(n)\n",
    "flag= False\n",
    "for i in range(0,len(n)//2-1):\n",
    "    j=  j -1\n",
    "    if n[i]==n[j]:\n",
    "        flag=True\n",
    "    else:\n",
    "        break\n",
    "if flag==True:\n",
    "    print(\"p\")\n",
    "else:\n",
    "    print(\"pn\")\n"
   ]
  },
  {
   "cell_type": "code",
   "execution_count": 9,
   "id": "3cb6a905",
   "metadata": {},
   "outputs": [
    {
     "name": "stdout",
     "output_type": "stream",
     "text": [
      "Count of Upper case is 0\n",
      "Count of Lower case is 5\n",
      "Count of Number is 4\n"
     ]
    }
   ],
   "source": [
    "n =\"aditi1239\"\n",
    "cnt1=0\n",
    "cnt2=0\n",
    "cnt3=0\n",
    "for i in n:\n",
    "    a = ord(i)\n",
    "    if a >= 48 and a<=57:\n",
    "        cnt1=cnt1+1\n",
    "    elif a >=65 and a<= 90:\n",
    "        cnt2=cnt2+1\n",
    "    elif a>=97 and a<=122:\n",
    "        cnt3=cnt3+1\n",
    "print(\"Count of Upper case is\",cnt2)\n",
    "print(\"Count of Lower case is\",cnt3)\n",
    "print(\"Count of Number is\",cnt1)"
   ]
  },
  {
   "cell_type": "code",
   "execution_count": 10,
   "id": "897cf74a",
   "metadata": {},
   "outputs": [
    {
     "name": "stdout",
     "output_type": "stream",
     "text": [
      "123aditi1239\n",
      "\n"
     ]
    }
   ],
   "source": [
    "n =\"123aditi1239\"\n",
    "b= \"\"\n",
    "c=\"\"\n",
    "a=ord(n[0])\n",
    "if a>=97 and a<=122:\n",
    "    for i in range(1,len(n)):\n",
    "        b=chr(a-32)\n",
    "        c=c+n[i]\n",
    "else:\n",
    "    print(n)\n",
    "print(b+c)"
   ]
  },
  {
   "cell_type": "code",
   "execution_count": 11,
   "id": "b28e6a51",
   "metadata": {},
   "outputs": [
    {
     "name": "stdout",
     "output_type": "stream",
     "text": [
      "Count of Upper case is 0\n",
      "Count of Lower case is 5\n",
      "Count of Number is 4\n",
      "Count of other is 0\n"
     ]
    }
   ],
   "source": [
    "n =\"aditi1239\"\n",
    "lower_cnt = 0\n",
    "upper_cnt = 0\n",
    "number_cnt = 0\n",
    "other_cnt = 0\n",
    "for a in n:\n",
    "    if a >= 'a' and a<='z':\n",
    "        lower_cnt=lower_cnt + 1\n",
    "    elif a >='A' and a<= 'Z':\n",
    "        upper_cnt=upper_cnt+1\n",
    "    elif a>='0' and a<='9':\n",
    "        number_cnt=number_cnt+1\n",
    "    else:\n",
    "        other_cnt = other_cnt + 1\n",
    "print(\"Count of Upper case is\",upper_cnt)\n",
    "print(\"Count of Lower case is\",lower_cnt)\n",
    "print(\"Count of Number is\",number_cnt)\n",
    "print(\"Count of other is\",other_cnt)"
   ]
  },
  {
   "cell_type": "code",
   "execution_count": 12,
   "id": "e4fe5c9b",
   "metadata": {},
   "outputs": [
    {
     "name": "stdout",
     "output_type": "stream",
     "text": [
      "aditi\n"
     ]
    }
   ],
   "source": [
    "n=\"Aditi\"\n",
    "a=chr((ord(n[0]))+32)\n",
    "for i in  range(1,len(n)):\n",
    "    a=a+n[i]\n",
    "print(a)"
   ]
  },
  {
   "cell_type": "code",
   "execution_count": 13,
   "id": "7fc0ea9f",
   "metadata": {},
   "outputs": [
    {
     "name": "stdout",
     "output_type": "stream",
     "text": [
      "aditi\n"
     ]
    }
   ],
   "source": [
    "n=\"ADITI\"\n",
    "a=\"\"\n",
    "for i in  range(0,len(n)):\n",
    "    a=a+chr((ord(n[i]))+32)\n",
    "print(a)"
   ]
  },
  {
   "cell_type": "code",
   "execution_count": 14,
   "id": "5ad308ec",
   "metadata": {},
   "outputs": [
    {
     "name": "stdout",
     "output_type": "stream",
     "text": [
      "ADITI\n"
     ]
    }
   ],
   "source": [
    "n=\"aditi\"\n",
    "a=\"\"\n",
    "for i in  range(0,len(n)):\n",
    "    a=a+chr((ord(n[i]))-32)\n",
    "print(a)"
   ]
  },
  {
   "cell_type": "code",
   "execution_count": 15,
   "id": "abe1affe",
   "metadata": {},
   "outputs": [
    {
     "name": "stdout",
     "output_type": "stream",
     "text": [
      "n\n"
     ]
    }
   ],
   "source": [
    "n=\"diad\"\n",
    "i=0\n",
    "flag=False\n",
    "j=len(n)-1\n",
    "while(i<=j):\n",
    "    if n[i]==n[j]:\n",
    "        flag=True\n",
    "    else:\n",
    "        flag = False\n",
    "        break;\n",
    "    i=i+1\n",
    "    j=j-1\n",
    "    \n",
    "if flag==True:\n",
    "    print(\"p\")\n",
    "else:\n",
    "    print(\"n\")"
   ]
  },
  {
   "cell_type": "code",
   "execution_count": null,
   "id": "7f315931",
   "metadata": {},
   "outputs": [],
   "source": []
  }
 ],
 "metadata": {
  "kernelspec": {
   "display_name": "Python 3 (ipykernel)",
   "language": "python",
   "name": "python3"
  },
  "language_info": {
   "codemirror_mode": {
    "name": "ipython",
    "version": 3
   },
   "file_extension": ".py",
   "mimetype": "text/x-python",
   "name": "python",
   "nbconvert_exporter": "python",
   "pygments_lexer": "ipython3",
   "version": "3.11.5"
  }
 },
 "nbformat": 4,
 "nbformat_minor": 5
}
