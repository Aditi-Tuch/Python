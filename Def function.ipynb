{
 "cells": [
  {
   "cell_type": "code",
   "execution_count": 4,
   "id": "4c10458a",
   "metadata": {},
   "outputs": [
    {
     "name": "stdout",
     "output_type": "stream",
     "text": [
      "15\n"
     ]
    }
   ],
   "source": [
    "def nat_num (n):\n",
    "    if n == 0:\n",
    "        return 0\n",
    "    return nat_num(n-1)+ n\n",
    "    \n",
    "print(nat_num(5))"
   ]
  },
  {
   "cell_type": "code",
   "execution_count": 8,
   "id": "7002ecdc",
   "metadata": {},
   "outputs": [
    {
     "name": "stdout",
     "output_type": "stream",
     "text": [
      "1\n",
      "2\n",
      "3\n",
      "4\n",
      "5\n"
     ]
    }
   ],
   "source": [
    "def ele(lst,n=0):\n",
    "    if n == len(lst):\n",
    "        return \n",
    "    print(lst[n])\n",
    "    ele(lst,n+1)\n",
    "\n",
    "count=[1,2,3,4,5]\n",
    "ele(count)\n"
   ]
  },
  {
   "cell_type": "code",
   "execution_count": 1,
   "id": "86fa92ee",
   "metadata": {
    "scrolled": true
   },
   "outputs": [
    {
     "name": "stdout",
     "output_type": "stream",
     "text": [
      "5\n",
      "0\n",
      "1\n",
      "4\n",
      "9\n",
      "16\n"
     ]
    }
   ],
   "source": [
    "n = int(input())\n",
    "i=0\n",
    "while i<n:\n",
    "    print(i*i)\n",
    "    i=i+1"
   ]
  },
  {
   "cell_type": "code",
   "execution_count": 5,
   "id": "231003d5",
   "metadata": {},
   "outputs": [
    {
     "name": "stdout",
     "output_type": "stream",
     "text": [
      "True\n"
     ]
    }
   ],
   "source": [
    "n=2000\n",
    "leap = False\n",
    "if n%4==0 and n%400!=0:\n",
    "    print(False)\n",
    "else: \n",
    "    print(True)"
   ]
  },
  {
   "cell_type": "code",
   "execution_count": 9,
   "id": "636b473c",
   "metadata": {},
   "outputs": [
    {
     "name": "stdout",
     "output_type": "stream",
     "text": [
      "1992\n",
      "True\n"
     ]
    }
   ],
   "source": [
    "def is_leap(year):\n",
    "    leap = False\n",
    "    if year%4==0 and year%100!=0:\n",
    "        leap=True\n",
    "    elif year%100==0 and year%400==0:\n",
    "        leap=True\n",
    "    else: \n",
    "        leap=False\n",
    "    \n",
    "    return leap\n",
    "\n",
    "year = int(input())\n",
    "print(is_leap(year))"
   ]
  },
  {
   "cell_type": "code",
   "execution_count": 43,
   "id": "94e4161b",
   "metadata": {},
   "outputs": [
    {
     "name": "stdout",
     "output_type": "stream",
     "text": [
      "<class 'int'>\n"
     ]
    }
   ],
   "source": [
    "n=5\n",
    "i=1\n",
    "j=0\n",
    "while i<=n:\n",
    "    j=(j+i)*10\n",
    "    i=i+1\n",
    "print(type(j))"
   ]
  },
  {
   "cell_type": "code",
   "execution_count": 52,
   "id": "3cb36904",
   "metadata": {},
   "outputs": [
    {
     "name": "stdout",
     "output_type": "stream",
     "text": [
      "5\n"
     ]
    },
    {
     "ename": "TypeError",
     "evalue": "can only concatenate str (not \"int\") to str",
     "output_type": "error",
     "traceback": [
      "\u001b[1;31m---------------------------------------------------------------------------\u001b[0m",
      "\u001b[1;31mTypeError\u001b[0m                                 Traceback (most recent call last)",
      "Cell \u001b[1;32mIn[52], line 5\u001b[0m\n\u001b[0;32m      3\u001b[0m j\u001b[38;5;241m=\u001b[39m\u001b[38;5;124m\"\u001b[39m\u001b[38;5;124m\"\u001b[39m\n\u001b[0;32m      4\u001b[0m \u001b[38;5;28;01mwhile\u001b[39;00m i\u001b[38;5;241m<\u001b[39m\u001b[38;5;241m=\u001b[39m\u001b[38;5;28mint\u001b[39m(n):\n\u001b[1;32m----> 5\u001b[0m     j\u001b[38;5;241m=\u001b[39mj\u001b[38;5;241m+\u001b[39mi\n\u001b[0;32m      6\u001b[0m     i\u001b[38;5;241m=\u001b[39mi\u001b[38;5;241m+\u001b[39m\u001b[38;5;241m1\u001b[39m\n\u001b[0;32m      7\u001b[0m \u001b[38;5;28mprint\u001b[39m(j)\n",
      "\u001b[1;31mTypeError\u001b[0m: can only concatenate str (not \"int\") to str"
     ]
    }
   ],
   "source": [
    "n=input()\n",
    "i=1\n",
    "j=\"\"\n",
    "while i<=int(n):\n",
    "    j=j+str(i)\n",
    "    i=i+1\n",
    "print(j)\n",
    "print(type(j))\n",
    "    "
   ]
  },
  {
   "cell_type": "code",
   "execution_count": 61,
   "id": "7127b150",
   "metadata": {},
   "outputs": [
    {
     "name": "stdout",
     "output_type": "stream",
     "text": [
      "AdITI\n"
     ]
    }
   ],
   "source": [
    "n=\"aDiti\"\n",
    "b=\"\"\n",
    "for i in range(0,len(n)):\n",
    "    if ord(n[i])>64 and ord(n[i])<91:\n",
    "        b=b+chr(ord(n[i])+32)\n",
    "    elif ord(n[i])>96 and ord(n[i])<123:\n",
    "            b=b+chr(ord(n[i])-32)\n",
    "print(b)\n"
   ]
  },
  {
   "cell_type": "code",
   "execution_count": 70,
   "id": "453c8c41",
   "metadata": {},
   "outputs": [],
   "source": [
    "def swap_case(s):\n",
    "    b=0\n",
    "    for i in range(0,len(s)):\n",
    "        if ord(s[i])>64 and ord(s[i])<91:\n",
    "            b=b+chr(ord(s[i])+32)\n",
    "        elif ord(s[i])>96 and ord(s[i])<123:\n",
    "            b=b+chr(ord(s[i]))-32\n",
    "    \n",
    "    print(b)"
   ]
  },
  {
   "cell_type": "code",
   "execution_count": 1,
   "id": "dc127ccb",
   "metadata": {},
   "outputs": [
    {
     "data": {
      "text/plain": [
       "120"
      ]
     },
     "execution_count": 1,
     "metadata": {},
     "output_type": "execute_result"
    }
   ],
   "source": [
    "def multiply(*s):\n",
    "    product = 1\n",
    "    \n",
    "    for i in s:\n",
    "        product = product * i\n",
    "    return product\n",
    "multiply(1,2,3,4,5)"
   ]
  },
  {
   "cell_type": "code",
   "execution_count": 2,
   "id": "b825abbb",
   "metadata": {},
   "outputs": [
    {
     "data": {
      "text/plain": [
       "'even'"
      ]
     },
     "execution_count": 2,
     "metadata": {},
     "output_type": "execute_result"
    }
   ],
   "source": [
    "def is_even(i):\n",
    "    if i%2==0:\n",
    "        return \"even\"\n",
    "    else:\n",
    "        return \"odd\"\n",
    "    \n",
    "is_even(2)"
   ]
  },
  {
   "cell_type": "code",
   "execution_count": null,
   "id": "01a3badf",
   "metadata": {},
   "outputs": [],
   "source": []
  }
 ],
 "metadata": {
  "kernelspec": {
   "display_name": "Python 3 (ipykernel)",
   "language": "python",
   "name": "python3"
  },
  "language_info": {
   "codemirror_mode": {
    "name": "ipython",
    "version": 3
   },
   "file_extension": ".py",
   "mimetype": "text/x-python",
   "name": "python",
   "nbconvert_exporter": "python",
   "pygments_lexer": "ipython3",
   "version": "3.11.5"
  }
 },
 "nbformat": 4,
 "nbformat_minor": 5
}
